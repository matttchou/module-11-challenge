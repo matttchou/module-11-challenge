{
 "cells": [
  {
   "cell_type": "markdown",
   "metadata": {},
   "source": [
    "# Module 12 Challenge\n",
    "## Deliverable 2: Scrape and Analyze Mars Weather Data"
   ]
  },
  {
   "cell_type": "code",
   "execution_count": 6,
   "metadata": {},
   "outputs": [
    {
     "name": "stderr",
     "output_type": "stream",
     "text": [
      "/var/folders/1d/lgpx_kjs5psbzdrldtkkydwh0000gn/T/ipykernel_55759/3773157971.py:7: DeprecationWarning: executable_path has been deprecated, please pass in a Service object\n",
      "  browser = webdriver.Chrome(ChromeDriverManager().install())\n"
     ]
    }
   ],
   "source": [
    "# Import Selenium and BeautifulSoup\n",
    "from selenium import webdriver\n",
    "from bs4 import BeautifulSoup\n",
    "from webdriver_manager.chrome import ChromeDriverManager\n",
    "\n",
    "# Set up using selenium\n",
    "browser = webdriver.Chrome(ChromeDriverManager().install())\n",
    "\n",
    "# Visit the Mars news site\n",
    "url = \"https://static.bc-edx.com/data/web/mars_facts/temperature.html\"\n",
    "browser.get(url)\n",
    "\n",
    "# Create a Beautiful Soup object\n",
    "html = browser.page_source\n",
    "html_soup = BeautifulSoup(html, 'html.parser')\n",
    "\n",
    "import matplotlib.pyplot as plt\n",
    "import pandas as pd"
   ]
  },
  {
   "cell_type": "markdown",
   "metadata": {},
   "source": [
    "### Step 1: Visit the Website\n",
    "\n",
    "Use automated browsing to visit the [Mars Temperature Data Site](https://static.bc-edx.com/data/web/mars_facts/temperature.html). Inspect the page to identify which elements to scrape.\n",
    "\n",
    "   > **Hint** To identify which elements to scrape, you might want to inspect the page by using Chrome DevTools to discover whether the table contains usable classes.\n"
   ]
  },
  {
   "cell_type": "markdown",
   "metadata": {},
   "source": [
    "### Step 2: Scrape the Table\n",
    "\n",
    "Create a Beautiful Soup object and use it to scrape the data in the HTML table.\n",
    "\n",
    "Note that this can also be achieved by using the Pandas `read_html` function. However, use Beautiful Soup here to continue sharpening your web scraping skills."
   ]
  },
  {
   "cell_type": "code",
   "execution_count": 7,
   "metadata": {},
   "outputs": [],
   "source": [
    "# Extract all rows of data\n",
    "rows = html_soup.find_all('tr', class_='data-row')"
   ]
  },
  {
   "cell_type": "markdown",
   "metadata": {},
   "source": [
    "### Step 3: Store the Data\n",
    "\n",
    "Assemble the scraped data into a Pandas DataFrame. The columns should have the same headings as the table on the website. Here’s an explanation of the column headings:\n",
    "\n",
    "* `id`: the identification number of a single transmission from the Curiosity rover\n",
    "* `terrestrial_date`: the date on Earth\n",
    "* `sol`: the number of elapsed sols (Martian days) since Curiosity landed on Mars\n",
    "* `ls`: the solar longitude\n",
    "* `month`: the Martian month\n",
    "* `min_temp`: the minimum temperature, in Celsius, of a single Martian day (sol)\n",
    "* `pressure`: The atmospheric pressure at Curiosity's location"
   ]
  },
  {
   "cell_type": "code",
   "execution_count": 20,
   "metadata": {},
   "outputs": [],
   "source": [
    "# Create an empty list\n",
    "list_of_rows = []\n",
    "# Loop through the scraped data to create a list of rows\n",
    "for row in rows:\n",
    "    td = row.find_all('td')\n",
    "    row = [col.text for col in td]\n",
    "    list_of_rows.append(row)"
   ]
  },
  {
   "cell_type": "code",
   "execution_count": 21,
   "metadata": {},
   "outputs": [],
   "source": [
    "# Create a Pandas DataFrame by using the list of rows and a list of the column names\n",
    "df = pd.DataFrame(list_of_rows, columns=['id', \n",
    "                                   'terrestrial_date', 'sol', 'ls', \n",
    "                                   'month', 'min_temp', 'pressure'])"
   ]
  },
  {
   "cell_type": "code",
   "execution_count": 22,
   "metadata": {},
   "outputs": [
    {
     "data": {
      "text/html": [
       "<div>\n",
       "<style scoped>\n",
       "    .dataframe tbody tr th:only-of-type {\n",
       "        vertical-align: middle;\n",
       "    }\n",
       "\n",
       "    .dataframe tbody tr th {\n",
       "        vertical-align: top;\n",
       "    }\n",
       "\n",
       "    .dataframe thead th {\n",
       "        text-align: right;\n",
       "    }\n",
       "</style>\n",
       "<table border=\"1\" class=\"dataframe\">\n",
       "  <thead>\n",
       "    <tr style=\"text-align: right;\">\n",
       "      <th></th>\n",
       "      <th>id</th>\n",
       "      <th>terrestrial_date</th>\n",
       "      <th>sol</th>\n",
       "      <th>ls</th>\n",
       "      <th>month</th>\n",
       "      <th>min_temp</th>\n",
       "      <th>pressure</th>\n",
       "    </tr>\n",
       "  </thead>\n",
       "  <tbody>\n",
       "    <tr>\n",
       "      <th>0</th>\n",
       "      <td>2</td>\n",
       "      <td>2012-08-16</td>\n",
       "      <td>10</td>\n",
       "      <td>155</td>\n",
       "      <td>6</td>\n",
       "      <td>-75.0</td>\n",
       "      <td>739.0</td>\n",
       "    </tr>\n",
       "    <tr>\n",
       "      <th>1</th>\n",
       "      <td>13</td>\n",
       "      <td>2012-08-17</td>\n",
       "      <td>11</td>\n",
       "      <td>156</td>\n",
       "      <td>6</td>\n",
       "      <td>-76.0</td>\n",
       "      <td>740.0</td>\n",
       "    </tr>\n",
       "    <tr>\n",
       "      <th>2</th>\n",
       "      <td>24</td>\n",
       "      <td>2012-08-18</td>\n",
       "      <td>12</td>\n",
       "      <td>156</td>\n",
       "      <td>6</td>\n",
       "      <td>-76.0</td>\n",
       "      <td>741.0</td>\n",
       "    </tr>\n",
       "    <tr>\n",
       "      <th>3</th>\n",
       "      <td>35</td>\n",
       "      <td>2012-08-19</td>\n",
       "      <td>13</td>\n",
       "      <td>157</td>\n",
       "      <td>6</td>\n",
       "      <td>-74.0</td>\n",
       "      <td>732.0</td>\n",
       "    </tr>\n",
       "    <tr>\n",
       "      <th>4</th>\n",
       "      <td>46</td>\n",
       "      <td>2012-08-20</td>\n",
       "      <td>14</td>\n",
       "      <td>157</td>\n",
       "      <td>6</td>\n",
       "      <td>-74.0</td>\n",
       "      <td>740.0</td>\n",
       "    </tr>\n",
       "  </tbody>\n",
       "</table>\n",
       "</div>"
      ],
      "text/plain": [
       "   id terrestrial_date sol   ls month min_temp pressure\n",
       "0   2       2012-08-16  10  155     6    -75.0    739.0\n",
       "1  13       2012-08-17  11  156     6    -76.0    740.0\n",
       "2  24       2012-08-18  12  156     6    -76.0    741.0\n",
       "3  35       2012-08-19  13  157     6    -74.0    732.0\n",
       "4  46       2012-08-20  14  157     6    -74.0    740.0"
      ]
     },
     "execution_count": 22,
     "metadata": {},
     "output_type": "execute_result"
    }
   ],
   "source": [
    "# Confirm DataFrame was created successfully\n",
    "df.head()"
   ]
  },
  {
   "cell_type": "markdown",
   "metadata": {},
   "source": [
    "### Step 4: Prepare Data for Analysis\n",
    "\n",
    "Examine the data types that are currently associated with each column. If necessary, cast (or convert) the data to the appropriate `datetime`, `int`, or `float` data types.\n",
    "\n",
    "  > **Hint** You can use the Pandas `astype` and `to_datetime` methods to accomplish this task.\n"
   ]
  },
  {
   "cell_type": "code",
   "execution_count": 23,
   "metadata": {},
   "outputs": [
    {
     "data": {
      "text/plain": [
       "id                  object\n",
       "terrestrial_date    object\n",
       "sol                 object\n",
       "ls                  object\n",
       "month               object\n",
       "min_temp            object\n",
       "pressure            object\n",
       "dtype: object"
      ]
     },
     "execution_count": 23,
     "metadata": {},
     "output_type": "execute_result"
    }
   ],
   "source": [
    "# Examine data type of each column\n",
    "df.dtypes"
   ]
  },
  {
   "cell_type": "code",
   "execution_count": 26,
   "metadata": {},
   "outputs": [],
   "source": [
    "# Change data types for data analysis\n",
    "df.terrestrial_date = pd.to_datetime(df.terrestrial_date)\n",
    "df.sol = df.sol.astype('int')\n",
    "df.ls = df.ls.astype('int')\n",
    "df.month = df.month.astype('int')\n",
    "df.min_temp = df.min_temp.astype('float')\n",
    "df.pressure = df.pressure.astype('float')"
   ]
  },
  {
   "cell_type": "code",
   "execution_count": 25,
   "metadata": {},
   "outputs": [
    {
     "data": {
      "text/plain": [
       "id                          object\n",
       "terrestrial_date    datetime64[ns]\n",
       "sol                          int64\n",
       "ls                          object\n",
       "month                        int64\n",
       "min_temp                   float64\n",
       "pressure                   float64\n",
       "dtype: object"
      ]
     },
     "execution_count": 25,
     "metadata": {},
     "output_type": "execute_result"
    }
   ],
   "source": [
    "# Confirm type changes were successful by examining data types again\n",
    "df.dtypes"
   ]
  },
  {
   "cell_type": "markdown",
   "metadata": {},
   "source": [
    "### Step 5: Analyze the Data\n",
    "\n",
    "Analyze your dataset by using Pandas functions to answer the following questions:\n",
    "\n",
    "1. How many months exist on Mars?\n",
    "2. How many Martian (and not Earth) days worth of data exist in the scraped dataset?\n",
    "3. What are the coldest and the warmest months on Mars (at the location of Curiosity)? To answer this question:\n",
    "    * Find the average the minimum daily temperature for all of the months.\n",
    "    * Plot the results as a bar chart.\n",
    "4. Which months have the lowest and the highest atmospheric pressure on Mars? To answer this question:\n",
    "    * Find the average the daily atmospheric pressure of all the months.\n",
    "    * Plot the results as a bar chart.\n",
    "5. About how many terrestrial (Earth) days exist in a Martian year? To answer this question:\n",
    "    * Consider how many days elapse on Earth in the time that Mars circles the Sun once.\n",
    "    * Visually estimate the result by plotting the daily minimum temperature.\n"
   ]
  },
  {
   "cell_type": "code",
   "execution_count": 28,
   "metadata": {},
   "outputs": [
    {
     "data": {
      "text/plain": [
       "1     174\n",
       "2     178\n",
       "3     192\n",
       "4     194\n",
       "5     149\n",
       "6     147\n",
       "7     142\n",
       "8     141\n",
       "9     134\n",
       "10    112\n",
       "11    138\n",
       "12    166\n",
       "Name: month, dtype: int64"
      ]
     },
     "execution_count": 28,
     "metadata": {},
     "output_type": "execute_result"
    }
   ],
   "source": [
    "# 1. How many months are there on Mars?\n",
    "df['month'].value_counts().sort_index()"
   ]
  },
  {
   "cell_type": "code",
   "execution_count": 29,
   "metadata": {},
   "outputs": [
    {
     "data": {
      "text/plain": [
       "1867"
      ]
     },
     "execution_count": 29,
     "metadata": {},
     "output_type": "execute_result"
    }
   ],
   "source": [
    "# 2. How many Martian days' worth of data are there?\n",
    "df[\"sol\"].nunique()"
   ]
  },
  {
   "cell_type": "code",
   "execution_count": 32,
   "metadata": {},
   "outputs": [
    {
     "data": {
      "text/plain": [
       "month\n",
       "1    -77.160920\n",
       "2    -79.932584\n",
       "3    -83.307292\n",
       "4    -82.747423\n",
       "5    -79.308725\n",
       "6    -75.299320\n",
       "7    -72.281690\n",
       "8    -68.382979\n",
       "9    -69.171642\n",
       "10   -71.982143\n",
       "11   -71.985507\n",
       "12   -74.451807\n",
       "Name: min_temp, dtype: float64"
      ]
     },
     "execution_count": 32,
     "metadata": {},
     "output_type": "execute_result"
    }
   ],
   "source": [
    "# 3. What is the average low temperature by month?\n",
    "min_temp_by_month = df.groupby('month')['min_temp'].mean()\n",
    "min_temp_by_month"
   ]
  },
  {
   "cell_type": "code",
   "execution_count": 33,
   "metadata": {},
   "outputs": [
    {
     "data": {
      "image/png": "[encoded data removed]",
      "text/plain": [
       "<Figure size 640x480 with 1 Axes>"
      ]
     },
     "metadata": {},
     "output_type": "display_data"
    }
   ],
   "source": [
    "# Plot the average temperature by month\n",
    "min_temp_by_month.plot(kind='bar')\n",
    "plt.ylabel('temp in C')\n",
    "plt.show()"
   ]
  },
  {
   "cell_type": "code",
   "execution_count": 34,
   "metadata": {},
   "outputs": [
    {
     "data": {
      "image/png": "[encoded data removed]",
      "text/plain": [
       "<Figure size 640x480 with 1 Axes>"
      ]
     },
     "metadata": {},
     "output_type": "display_data"
    }
   ],
   "source": [
    "# Identify the coldest and hottest months in Curiosity's location\n",
    "min_temp_by_month.sort_values().plot(kind='bar')\n",
    "plt.ylabel('temp in C')\n",
    "plt.show()"
   ]
  },
  {
   "cell_type": "code",
   "execution_count": 35,
   "metadata": {},
   "outputs": [
    {
     "data": {
      "text/plain": [
       "month\n",
       "1     862.488506\n",
       "2     889.455056\n",
       "3     877.322917\n",
       "4     806.329897\n",
       "5     748.557047\n",
       "6     745.054422\n",
       "7     795.105634\n",
       "8     873.829787\n",
       "9     913.305970\n",
       "10    887.312500\n",
       "11    857.014493\n",
       "12    842.156627\n",
       "Name: pressure, dtype: float64"
      ]
     },
     "execution_count": 35,
     "metadata": {},
     "output_type": "execute_result"
    }
   ],
   "source": [
    "# 4. Average pressure by Martian month\n",
    "pressure_by_month = df.groupby('month')['pressure'].mean()\n",
    "pressure_by_month"
   ]
  },
  {
   "cell_type": "code",
   "execution_count": 37,
   "metadata": {},
   "outputs": [
    {
     "data": {
      "image/png": "[encoded data removed]",
      "text/plain": [
       "<Figure size 640x480 with 1 Axes>"
      ]
     },
     "metadata": {},
     "output_type": "display_data"
    }
   ],
   "source": [
    "# Plot the average pressure by month\n",
    "pressure_by_month.sort_values().plot(kind='bar')\n",
    "plt.ylabel('Atmospheric Pressure')\n",
    "plt.show()"
   ]
  },
  {
   "cell_type": "code",
   "execution_count": 38,
   "metadata": {},
   "outputs": [
    {
     "data": {
      "image/png": "[encoded data removed]",
      "text/plain": [
       "<Figure size 640x480 with 1 Axes>"
      ]
     },
     "metadata": {},
     "output_type": "display_data"
    }
   ],
   "source": [
    "# 5. How many terrestrial (earth) days are there in a Martian year?\n",
    "df.min_temp.plot()\n",
    "plt.xlabel('Number of Terrrestrial Days')\n",
    "plt.ylabel('Minimum Temperature')\n",
    "plt.show()"
   ]
  },
  {
   "cell_type": "markdown",
   "metadata": {},
   "source": [
    "On average, the third month has the coldest minimum temperature on Mars, and the eighth month is the warmest. But it is always very cold there in human terms!\n",
    "\n"
   ]
  },
  {
   "cell_type": "markdown",
   "metadata": {},
   "source": [
    "Atmospheric pressure is, on average, lowest in the sixth month and highest in the ninth."
   ]
  },
  {
   "cell_type": "markdown",
   "metadata": {},
   "source": [
    "The distance from peak to peak is roughly 1425-750, or 675 days. A year on Mars appears to be about 675 days from the plot. Internet search confirms that a Mars year is equivalent to 687 earth days."
   ]
  },
  {
   "cell_type": "markdown",
   "metadata": {},
   "source": [
    "### Step 6: Save the Data\n",
    "\n",
    "Export the DataFrame to a CSV file."
   ]
  },
  {
   "cell_type": "code",
   "execution_count": 20,
   "metadata": {},
   "outputs": [],
   "source": [
    "# Write the data to a CSV\n"
   ]
  },
  {
   "cell_type": "code",
   "execution_count": 21,
   "metadata": {},
   "outputs": [],
   "source": [
    "browser.quit()"
   ]
  },
  {
   "cell_type": "code",
   "execution_count": null,
   "metadata": {},
   "outputs": [],
   "source": []
  }
 ],
 "metadata": {
  "kernelspec": {
   "display_name": "Python 3 (ipykernel)",
   "language": "python",
   "name": "python3"
  },
  "language_info": {
   "codemirror_mode": {
    "name": "ipython",
    "version": 3
   },
   "file_extension": ".py",
   "mimetype": "text/x-python",
   "name": "python",
   "nbconvert_exporter": "python",
   "pygments_lexer": "ipython3",
   "version": "3.11.4"
  },
  "vscode": {
   "interpreter": {
    "hash": "31f2aee4e71d21fbe5cf8b01ff0e069b9275f58929596ceb00d14d90e3e16cd6"
   }
  }
 },
 "nbformat": 4,
 "nbformat_minor": 4
}
